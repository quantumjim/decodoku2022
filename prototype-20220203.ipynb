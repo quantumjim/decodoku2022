{
 "cells": [
  {
   "cell_type": "markdown",
   "metadata": {},
   "source": [
    "# Prototyping Decodoku 2022"
   ]
  },
  {
   "cell_type": "markdown",
   "metadata": {},
   "source": [
    "This notebook contains work in progress for a sequel to the citizen science game [Decodoku](https://decodoku.blogspot.com/), made as a resource for lectures in the [QEC Summer School 2022](https://wwwpoc.ibm.com/quantum-computing/summer-school/).\n",
    "\n",
    "We'll use the [Jupylet](https://jupylet.readthedocs.io/en/latest/) port of Qisge (which is just a file in this repo)."
   ]
  },
  {
   "cell_type": "code",
   "execution_count": 1,
   "metadata": {},
   "outputs": [],
   "source": [
    "import qisge"
   ]
  },
  {
   "cell_type": "markdown",
   "metadata": {},
   "source": [
    "And we'll need some randomness."
   ]
  },
  {
   "cell_type": "code",
   "execution_count": 2,
   "metadata": {},
   "outputs": [],
   "source": [
    "import random"
   ]
  },
  {
   "cell_type": "markdown",
   "metadata": {},
   "source": [
    "The only image needed is the background grid. "
   ]
  },
  {
   "cell_type": "code",
   "execution_count": 3,
   "metadata": {},
   "outputs": [],
   "source": [
    "images = qisge.ImageList([\n",
    "    'grid8.png'\n",
    "    ])\n",
    "\n",
    "background = qisge.Sprite(0,size=16.2,x=6,y=0)"
   ]
  },
  {
   "cell_type": "markdown",
   "metadata": {},
   "source": [
    "The syndrome will be displayed with text boxes. Note the weird magic numbers used in the `x` and `y` coordinates. These are due to the WIP nature of the Jupylet port of Qisge, and will be fixed in future."
   ]
  },
  {
   "cell_type": "code",
   "execution_count": 4,
   "metadata": {},
   "outputs": [],
   "source": [
    "syndrome = {}\n",
    "for x in range(8):\n",
    "    for y in range(8):\n",
    "        syndrome[x,y] = qisge.Text('·',0,1,x=1.95*x+7,y=1.95*y+.9)"
   ]
  },
  {
   "cell_type": "markdown",
   "metadata": {},
   "source": [
    "Errors are associated with pairs of neighbouring squares on the grid, so we'll make a list of them all."
   ]
  },
  {
   "cell_type": "code",
   "execution_count": 5,
   "metadata": {},
   "outputs": [],
   "source": [
    "pairs = []\n",
    "for x in range(8):\n",
    "    for y in range(8):\n",
    "        if x+1 <8:\n",
    "            pairs.append([(x,y),(x+1,y)])\n",
    "        if y+1<8:\n",
    "            pairs.append([(x,y),(x,y+1)])"
   ]
  },
  {
   "cell_type": "markdown",
   "metadata": {},
   "source": [
    "Now for the `next_frame` function. When any arrow key is pressed, each possible error will occur in each frame with probability `p`. When no arrow key is pressed, nothing happens."
   ]
  },
  {
   "cell_type": "code",
   "execution_count": 6,
   "metadata": {},
   "outputs": [],
   "source": [
    "p = 0.001\n",
    "\n",
    "def next_frame(userinput):\n",
    "    \n",
    "    global syndrome, pairs\n",
    "    \n",
    "    # action happens if any arrow key is pressed\n",
    "    if {0,1,2,3}.intersection(set(userinput['key_presses'])):\n",
    "        for pair in pairs:\n",
    "            if random.random()<p:\n",
    "                pair = random.choice(pairs)\n",
    "                for s in pair:\n",
    "                    if syndrome[s].text=='1':\n",
    "                        syndrome[s].text = '-'\n",
    "                    else:\n",
    "                        syndrome[s].text = '1'   "
   ]
  },
  {
   "cell_type": "markdown",
   "metadata": {},
   "source": [
    "Now we run it to see it in action."
   ]
  },
  {
   "cell_type": "code",
   "execution_count": 7,
   "metadata": {
    "scrolled": false
   },
   "outputs": [
    {
     "data": {
      "application/vnd.jupyter.widget-view+json": {
       "model_id": "addb606df83545969957e2f9a814bdca",
       "version_major": 2,
       "version_minor": 0
      },
      "text/plain": [
       "Image(value=b'\\xff\\xd8\\xff\\xe0\\x00\\x10JFIF\\x00\\x01\\x01\\x00\\x00\\x01\\x00\\x01\\x00\\x00\\xff\\xdb\\x00C\\x00\\x08\\x06\\x0…"
      ]
     },
     "metadata": {},
     "output_type": "display_data"
    }
   ],
   "source": [
    "@qisge._app.run_me_every(1/qisge.FPS)\n",
    "def game_loop(ct, dt):\n",
    "    next_frame(qisge.update())\n",
    "    \n",
    "qisge._app.run()"
   ]
  },
  {
   "cell_type": "markdown",
   "metadata": {},
   "source": [
    "This will show all syndromes initially as `·`. When they detect an error, this will change to `1`. If a syndrome does not detect an error after it previously has done, this will be denoted with `-`.\n",
    "\n",
    "So just watch some errors happen. That's all for now!"
   ]
  },
  {
   "cell_type": "code",
   "execution_count": null,
   "metadata": {},
   "outputs": [],
   "source": []
  }
 ],
 "metadata": {
  "kernelspec": {
   "display_name": "Python 3",
   "language": "python",
   "name": "python3"
  },
  "language_info": {
   "codemirror_mode": {
    "name": "ipython",
    "version": 3
   },
   "file_extension": ".py",
   "mimetype": "text/x-python",
   "name": "python",
   "nbconvert_exporter": "python",
   "pygments_lexer": "ipython3",
   "version": "3.9.1"
  }
 },
 "nbformat": 4,
 "nbformat_minor": 4
}
